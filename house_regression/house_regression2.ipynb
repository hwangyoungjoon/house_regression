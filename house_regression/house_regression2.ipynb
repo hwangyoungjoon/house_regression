{
 "cells": [
  {
   "cell_type": "code",
   "execution_count": 1,
   "metadata": {
    "collapsed": true,
    "deletable": true,
    "editable": true
   },
   "outputs": [],
   "source": [
    "import pandas as pd\n",
    "import numpy as np\n",
    "import matplotlib\n",
    "import matplotlib.pyplot as plt\n",
    "from scipy.stats import skew\n",
    "import pylab as py\n",
    "from sklearn.model_selection import cross_val_score\n",
    "from sklearn.linear_model import Ridge, RidgeCV, ElasticNet, LassoCV, LassoLarsCV"
   ]
  },
  {
   "cell_type": "code",
   "execution_count": 2,
   "metadata": {
    "collapsed": true,
    "deletable": true,
    "editable": true
   },
   "outputs": [],
   "source": [
    "train = pd.read_csv(\"train.csv\")\n",
    "test = pd.read_csv(\"test.csv\")\n",
    "all_data = pd.concat((train.loc[:,'MSSubClass':'SaleCondition'], test.loc[:,'MSSubClass':'SaleCondition']))\n"
   ]
  },
  {
   "cell_type": "code",
   "execution_count": 14,
   "metadata": {
    "collapsed": true,
    "deletable": true,
    "editable": true
   },
   "outputs": [],
   "source": [
    "train[\"SalePrice\"] = np.log1p(train[\"SalePrice\"])\n",
    "\n",
    "#log transform skewed numeric features:\n",
    "numeric_feats = all_data.dtypes[all_data.dtypes != \"object\"].index\n",
    "skewed_feats = train[numeric_feats].apply(lambda x: skew(x.dropna())) #compute skewness\n",
    "skewed_feats = skewed_feats[skewed_feats > 0.75]\n",
    "skewed_feats = skewed_feats.index\n",
    "\n",
    "all_data[skewed_feats] = np.log1p(all_data[skewed_feats])\n",
    "\n",
    "all_data = pd.get_dummies(all_data)\n",
    "\n",
    "#filling NA's with the mean of the column:\n",
    "all_data = all_data.fillna(all_data.mean())"
   ]
  },
  {
   "cell_type": "code",
   "execution_count": 15,
   "metadata": {
    "collapsed": false,
    "deletable": true,
    "editable": true
   },
   "outputs": [
    {
     "name": "stdout",
     "output_type": "stream",
     "text": [
      "0       12.247699\n",
      "1       12.109016\n",
      "2       12.317171\n",
      "3       11.849405\n",
      "4       12.429220\n",
      "5       11.870607\n",
      "6       12.634606\n",
      "7       12.206078\n",
      "8       11.774528\n",
      "9       11.678448\n",
      "10      11.771444\n",
      "11      12.751303\n",
      "12      11.877576\n",
      "13      12.540761\n",
      "14      11.964007\n",
      "15      11.790565\n",
      "16      11.911708\n",
      "17      11.407576\n",
      "18      11.976666\n",
      "19      11.842236\n",
      "20      12.692506\n",
      "21      11.845110\n",
      "22      12.345839\n",
      "23      11.774528\n",
      "24      11.944714\n",
      "25      12.454108\n",
      "26      11.811555\n",
      "27      12.631344\n",
      "28      12.242891\n",
      "29      11.134604\n",
      "          ...    \n",
      "1430    12.165985\n",
      "1431    11.875838\n",
      "1432    11.074436\n",
      "1433    12.136192\n",
      "1434    11.982935\n",
      "1435    12.066816\n",
      "1436    11.699413\n",
      "1437    12.885673\n",
      "1438    11.916395\n",
      "1439    12.190964\n",
      "1440    12.160034\n",
      "1441    11.913720\n",
      "1442    12.644331\n",
      "1443    11.703554\n",
      "1444    12.098493\n",
      "1445    11.767575\n",
      "1446    11.969724\n",
      "1447    12.388398\n",
      "1448    11.626263\n",
      "1449    11.429555\n",
      "1450    11.820418\n",
      "1451    12.567555\n",
      "1452    11.884496\n",
      "1453    11.344519\n",
      "1454    12.128117\n",
      "1455    12.072547\n",
      "1456    12.254868\n",
      "1457    12.493133\n",
      "1458    11.864469\n",
      "1459    11.901590\n",
      "Name: SalePrice, dtype: float64\n"
     ]
    }
   ],
   "source": [
    "X_train = all_data[:train.shape[0]]\n",
    "X_test = all_data[train.shape[0]:]\n",
    "y = train.SalePrice\n",
    "print y"
   ]
  },
  {
   "cell_type": "code",
   "execution_count": 18,
   "metadata": {
    "collapsed": false,
    "deletable": true,
    "editable": true
   },
   "outputs": [
    {
     "data": {
      "image/png": "[encoded data removed]",
      "text/plain": [
       "<matplotlib.figure.Figure at 0x11f44ef0>"
      ]
     },
     "metadata": {},
     "output_type": "display_data"
    }
   ],
   "source": [
    "def rmse_cv(model):\n",
    "    rmse= np.sqrt(-cross_val_score(model, X_train, y, scoring=\"neg_mean_squared_error\", cv = 5))\n",
    "    return(rmse)\n",
    "\n",
    "model_ridge = Ridge()\n",
    "alphas = [0.05, 0.1, 0.3, 1, 3, 5, 10, 15, 30, 50, 75]\n",
    "cv_ridge = [rmse_cv(Ridge(alpha = alpha)).mean() \n",
    "            for alpha in alphas]\n",
    "cv_ridge = pd.Series(cv_ridge, index = alphas)\n",
    "cv_ridge.plot(title = \"Validation - Just Do It\")\n",
    "plt.xlabel(\"alpha\")\n",
    "plt.ylabel(\"rmse\")\n",
    "plt.show()"
   ]
  },
  {
   "cell_type": "code",
   "execution_count": 17,
   "metadata": {
    "collapsed": false,
    "deletable": true,
    "editable": true
   },
   "outputs": [],
   "source": [
    "model_lasso = LassoCV(alphas = [1, 0.1, 0.001, 0.0005]).fit(X_train, y)\n",
    "\n",
    "rmse_cv(model_lasso).mean()\n",
    "\n",
    "coef = pd.Series(model_lasso.coef_, index = X_train.columns)\n",
    "\n",
    "\n",
    "preds = pd.DataFrame({\"preds\":model_lasso.predict(X_train), \"true\":y})\n",
    "preds[\"residuals\"] = preds[\"true\"] - preds[\"preds\"]\n",
    "preds = np.expm1(model_lasso.predict(X_test))\n",
    "solution = pd.DataFrame({\"id\":test.Id, \"SalePrice\":preds})\n",
    "solution.to_csv(\"ridge_sol.csv\", index = False)\n"
   ]
  },
  {
   "cell_type": "code",
   "execution_count": 19,
   "metadata": {
    "collapsed": true,
    "deletable": true,
    "editable": true
   },
   "outputs": [],
   "source": [
    "numeric_feats = all_data.dtypes[all_data.dtypes != \"object\"].index\n",
    "t = all_data[numeric_feats].quantile(.75)"
   ]
  },
  {
   "cell_type": "code",
   "execution_count": 20,
   "metadata": {
    "collapsed": false,
    "deletable": true,
    "editable": true
   },
   "outputs": [
    {
     "data": {
      "text/plain": [
       "MSSubClass                  4.262680\n",
       "LotFrontage                 4.369448\n",
       "LotArea                     9.356257\n",
       "OverallQual                 7.000000\n",
       "OverallCond                 6.000000\n",
       "YearBuilt                2001.000000\n",
       "YearRemodAdd             2004.000000\n",
       "MasVnrArea                  5.102906\n",
       "BsmtFinSF1                  6.598509\n",
       "BsmtFinSF2                  0.000000\n",
       "BsmtUnfSF                   6.692083\n",
       "TotalBsmtSF                 7.172425\n",
       "1stFlrSF                    7.235979\n",
       "2ndFlrSF                    6.558198\n",
       "LowQualFinSF                0.000000\n",
       "GrLivArea                   7.464223\n",
       "BsmtFullBath                1.000000\n",
       "BsmtHalfBath                0.000000\n",
       "FullBath                    2.000000\n",
       "HalfBath                    1.000000\n",
       "BedroomAbvGr                3.000000\n",
       "KitchenAbvGr                0.693147\n",
       "TotRmsAbvGrd                7.000000\n",
       "Fireplaces                  1.000000\n",
       "GarageYrBlt              2001.000000\n",
       "GarageCars                  2.000000\n",
       "GarageArea                576.000000\n",
       "WoodDeckSF                  5.129899\n",
       "OpenPorchSF                 4.262680\n",
       "EnclosedPorch               0.000000\n",
       "                            ...     \n",
       "GarageCond_TA               1.000000\n",
       "PavedDrive_N                0.000000\n",
       "PavedDrive_P                0.000000\n",
       "PavedDrive_Y                1.000000\n",
       "PoolQC_Ex                   0.000000\n",
       "PoolQC_Fa                   0.000000\n",
       "PoolQC_Gd                   0.000000\n",
       "Fence_GdPrv                 0.000000\n",
       "Fence_GdWo                  0.000000\n",
       "Fence_MnPrv                 0.000000\n",
       "Fence_MnWw                  0.000000\n",
       "MiscFeature_Gar2            0.000000\n",
       "MiscFeature_Othr            0.000000\n",
       "MiscFeature_Shed            0.000000\n",
       "MiscFeature_TenC            0.000000\n",
       "SaleType_COD                0.000000\n",
       "SaleType_CWD                0.000000\n",
       "SaleType_Con                0.000000\n",
       "SaleType_ConLD              0.000000\n",
       "SaleType_ConLI              0.000000\n",
       "SaleType_ConLw              0.000000\n",
       "SaleType_New                0.000000\n",
       "SaleType_Oth                0.000000\n",
       "SaleType_WD                 1.000000\n",
       "SaleCondition_Abnorml       0.000000\n",
       "SaleCondition_AdjLand       0.000000\n",
       "SaleCondition_Alloca        0.000000\n",
       "SaleCondition_Family        0.000000\n",
       "SaleCondition_Normal        1.000000\n",
       "SaleCondition_Partial       0.000000\n",
       "Name: 0.75, dtype: float64"
      ]
     },
     "execution_count": 20,
     "metadata": {},
     "output_type": "execute_result"
    }
   ],
   "source": [
    "t"
   ]
  },
  {
   "cell_type": "code",
   "execution_count": null,
   "metadata": {
    "collapsed": true,
    "deletable": true,
    "editable": true
   },
   "outputs": [],
   "source": []
  }
 ],
 "metadata": {
  "kernelspec": {
   "display_name": "Python 2",
   "language": "python",
   "name": "python2"
  },
  "language_info": {
   "codemirror_mode": {
    "name": "ipython",
    "version": 2
   },
   "file_extension": ".py",
   "mimetype": "text/x-python",
   "name": "python",
   "nbconvert_exporter": "python",
   "pygments_lexer": "ipython2",
   "version": "2.7.13"
  }
 },
 "nbformat": 4,
 "nbformat_minor": 2
}
